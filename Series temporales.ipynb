{
 "cells": [
  {
   "cell_type": "code",
   "execution_count": null,
   "metadata": {},
   "outputs": [],
   "source": [
    "import numpy as np\n",
    "import pandas as pd\n",
    "from matplotlib import pyplot as plt\n",
    "from sklearn.preprocessing import StandardScaler, RobustScaler, MinMaxScaler\n",
    "import seaborn as sns\n",
    "from collections import Counter"
   ]
  },
  {
   "cell_type": "markdown",
   "metadata": {},
   "source": [
    "Concatenar tablas"
   ]
  },
  {
   "cell_type": "code",
   "execution_count": null,
   "metadata": {},
   "outputs": [],
   "source": [
    "d1 = pd.read_csv('data/SL132001-data (11).csv')\n",
    "d2 = pd.read_csv('data/SL132001-data (12).csv')"
   ]
  },
  {
   "cell_type": "code",
   "execution_count": null,
   "metadata": {
    "scrolled": true
   },
   "outputs": [],
   "source": [
    "data = pd.concat([d1.iloc[1:], d2[1:]], axis=0, ignore_index=True)\n",
    "data"
   ]
  },
  {
   "cell_type": "markdown",
   "metadata": {},
   "source": [
    "Recortar Datos"
   ]
  },
  {
   "cell_type": "code",
   "execution_count": null,
   "metadata": {},
   "outputs": [],
   "source": [
    "#eliminar columnas\n",
    "data.drop(columns=['Date', 'Time GMT -4', 'Latitude', 'Longitude', 'Unnamed: 16'], inplace=True)"
   ]
  },
  {
   "cell_type": "code",
   "execution_count": null,
   "metadata": {
    "scrolled": true
   },
   "outputs": [],
   "source": [
    "#convertir timestamp\n",
    "data['Timestamp'] = pd.to_datetime(data.Timestamp, unit='ms')\n",
    "data.set_index('Timestamp', inplace=True)\n",
    "data.index = data.index.tz_localize('UTC').tz_convert('US/Eastern')\n",
    "data.head()"
   ]
  },
  {
   "cell_type": "code",
   "execution_count": null,
   "metadata": {},
   "outputs": [],
   "source": [
    "intervals = []\n",
    "for i in range(1, len(data.index)):\n",
    "    intervals.append((data.index[i] - data.index[i-1]).seconds)"
   ]
  },
  {
   "cell_type": "code",
   "execution_count": null,
   "metadata": {},
   "outputs": [],
   "source": [
    "cnt = Counter(intervals)\n",
    "df_cnt = pd.DataFrame(sorted(cnt.items(), key=lambda x: x[1], reverse=True))\n",
    "df_cnt.columns = ['Interval (s)', 'Counts']\n",
    "df_cnt.head(5)"
   ]
  },
  {
   "cell_type": "code",
   "execution_count": null,
   "metadata": {},
   "outputs": [],
   "source": [
    "print(min(intervals), max(intervals))"
   ]
  },
  {
   "cell_type": "markdown",
   "metadata": {},
   "source": [
    "# exploración"
   ]
  },
  {
   "cell_type": "markdown",
   "metadata": {},
   "source": [
    "series de tiempo (no normalizados y normalizados)"
   ]
  },
  {
   "cell_type": "code",
   "execution_count": null,
   "metadata": {},
   "outputs": [],
   "source": [
    "# grafica de cada caracteristica vs tiempo\n",
    "fig, ax = plt.subplots(figsize=(16, 6))\n",
    "for col in data.columns:\n",
    "    data[col] = data[col].astype('float64')    \n",
    "    data.plot(y=col, use_index=True, ax=ax)\n",
    "plt.show()"
   ]
  },
  {
   "cell_type": "code",
   "execution_count": null,
   "metadata": {},
   "outputs": [],
   "source": [
    "# scaler = StandardScaler()\n",
    "# scaler = RobustScaler()\n",
    "scaler = MinMaxScaler()\n",
    "data_norm = data.copy()\n",
    "data_norm[:] = scaler.fit_transform(data_norm)"
   ]
  },
  {
   "cell_type": "code",
   "execution_count": null,
   "metadata": {},
   "outputs": [],
   "source": [
    "# grafica de cada caracteristica (normalizada) vs tiempo\n",
    "fig, ax = plt.subplots(figsize=(16, 6))\n",
    "for col in data_norm.columns:\n",
    "    data_norm[col] = data_norm[col].astype('float64')    \n",
    "    data_norm.plot(y=col, use_index=True, ax=ax)\n",
    "plt.show()"
   ]
  },
  {
   "cell_type": "code",
   "execution_count": null,
   "metadata": {},
   "outputs": [],
   "source": [
    "fig, axs = plt.subplots(3, 1, sharex=True, figsize=(16, 8))\n",
    "cols = [9, 10, 0]\n",
    "colors = ['tab:blue', 'tab:orange', 'tab:green']\n",
    "for i in range(3):\n",
    "    ax = axs[i]\n",
    "    col = data_norm.columns[cols[i]]\n",
    "    ax.plot(data_norm.index.strftime(\"%m/%d/%Y, %H:%M:%S\"), data_norm[col], color=colors[i], label=col)\n",
    "    ax.set_ylabel('Normalized value')\n",
    "    ax.set_xlim([data_norm.index[0], data_norm.index[-1]])\n",
    "    ax.legend()\n",
    "    ax.axvspan('2020-05-26 09:00:00-04:00', '2020-05-28 9:00:00-04:00', alpha=0.05, color='red')\n",
    "    ax.axvspan('2020-05-29 18:00:00-04:00', '2020-06-01 8:00:00-04:00', alpha=0.05, color='red')\n",
    "axs[0].set_title('Measurements of Ozone, Temperature (External) and Humidity (External)')\n",
    "plt.xlabel('Timestamp')\n",
    "plt.show()\n",
    "\n"
   ]
  },
  {
   "cell_type": "code",
   "execution_count": null,
   "metadata": {},
   "outputs": [],
   "source": []
  }
 ],
 "metadata": {
  "kernelspec": {
   "display_name": "Python 3",
   "language": "python",
   "name": "python3"
  },
  "language_info": {
   "codemirror_mode": {
    "name": "ipython",
    "version": 3
   },
   "file_extension": ".py",
   "mimetype": "text/x-python",
   "name": "python",
   "nbconvert_exporter": "python",
   "pygments_lexer": "ipython3",
   "version": "3.7.6"
  }
 },
 "nbformat": 4,
 "nbformat_minor": 4
}
